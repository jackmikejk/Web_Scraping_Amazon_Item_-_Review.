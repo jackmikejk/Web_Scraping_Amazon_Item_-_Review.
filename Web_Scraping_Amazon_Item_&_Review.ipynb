{
  "nbformat": 4,
  "nbformat_minor": 0,
  "metadata": {
    "colab": {
      "provenance": [],
      "authorship_tag": "ABX9TyOMQ4TJGZBOpv5Nu9Bx+06a",
      "include_colab_link": true
    },
    "kernelspec": {
      "name": "python3",
      "display_name": "Python 3"
    },
    "language_info": {
      "name": "python"
    }
  },
  "cells": [
    {
      "cell_type": "markdown",
      "metadata": {
        "id": "view-in-github",
        "colab_type": "text"
      },
      "source": [
        "<a href=\"https://colab.research.google.com/github/jackmikejk/Web_Scraping_Price_Monitor/blob/main/Web_Scraping_Amazon_Item_%26_Review.ipynb\" target=\"_parent\"><img src=\"https://colab.research.google.com/assets/colab-badge.svg\" alt=\"Open In Colab\"/></a>"
      ]
    },
    {
      "cell_type": "code",
      "source": [
        "!pip install beautifulsoup4"
      ],
      "metadata": {
        "colab": {
          "base_uri": "https://localhost:8080/"
        },
        "id": "MFg_Ekc444dZ",
        "outputId": "ec092165-384c-4c70-c0e8-d170fd59744f"
      },
      "execution_count": null,
      "outputs": [
        {
          "output_type": "stream",
          "name": "stdout",
          "text": [
            "Requirement already satisfied: beautifulsoup4 in /usr/local/lib/python3.10/dist-packages (4.12.3)\n",
            "Requirement already satisfied: soupsieve>1.2 in /usr/local/lib/python3.10/dist-packages (from beautifulsoup4) (2.5)\n"
          ]
        }
      ]
    },
    {
      "cell_type": "code",
      "execution_count": null,
      "metadata": {
        "id": "mzF27eZpknCf"
      },
      "outputs": [],
      "source": [
        "#lets import libraries\n",
        "\n",
        "from bs4 import BeautifulSoup\n",
        "import requests\n",
        "import time\n",
        "import datetime\n",
        "\n",
        "import smtplib"
      ]
    },
    {
      "cell_type": "code",
      "source": [
        "#connecting URL of website\n",
        "\n",
        "URL = 'https://www.amazon.com/LIYOHON-Womens-T-Shirt-Blouses-Black-M/dp/B083QTMZQ8/ref=sr_1_1_sspa?keywords=data%2Banalyst%2Btshirt&qid=1681263540&sr=8-1-spons&spLa=ZW5jcnlwdGVkUXVhbGlmaWVyPUEzNlgySFpPUFVCMDFNJmVuY3J5cHRlZElkPUEwODQ4NjUyMjNDMFhVU01MRlpCTSZlbmNyeXB0ZWRBZElkPUEwNjQ0OTQ1VVY0WVkwUEM3Vk4wJndpZGdldE5hbWU9c3BfYXRmJmFjdGlvbj1jbGlja1JlZGlyZWN0JmRvTm90TG9nQ2xpY2s9dHJ1ZQ&th=1&psc=1'\n",
        "\n",
        "headers = {\"User-Agent\": \"Mozilla/5.0 (Windows NT 10.0; Win64; x64) AppleWebKit/537.36 (KHTML, like Gecko) Chrome/78.0.3904.108 Safari/537.36\", \"Accept-Encoding\":\"gzip, deflate\", \"Accept\":\"text/html,application/xhtml+xml,application/xml;q=0.9,*/*;q=0.8\", \"DNT\":\"1\",\"Connection\":\"close\", \"Upgrade-Insecure-Requests\":\"1\"}\n",
        "\n",
        "page = requests.get(URL, headers)\n",
        "\n",
        "Soup1 = BeautifulSoup(page.text, \"html.parser\")\n",
        "\n",
        "Soup2 = BeautifulSoup(Soup1.prettify(), \"html.parser\")\n",
        "\n",
        "title_portion = Soup2.find(id='productTitle')\n",
        "title = title_portion.get_text()\n",
        "\n",
        "review = Soup2.find(id='acrCustomerReviewText').get_text()\n",
        "\n",
        "print(title.strip())\n",
        "print(review.strip())\n",
        "\n",
        "#price = Soup2.find_all(\"span\", class_='a-price-whole')\n",
        "#print(price)\n",
        "#title = Soup2.find(id='productTitle').get_text()\n",
        "\n",
        "#price = Soup2.select_one('span.a-price-whole').select_one('span.a-price-decimal').get_text()\n",
        "\n",
        "\n",
        "#print(title)\n",
        "#print(price.text)\n",
        "\n"
      ],
      "metadata": {
        "id": "5ft2lASx58JR",
        "colab": {
          "base_uri": "https://localhost:8080/"
        },
        "collapsed": true,
        "outputId": "0da66ab0-4a7c-447f-9868-c4b765b25687"
      },
      "execution_count": null,
      "outputs": [
        {
          "output_type": "stream",
          "name": "stdout",
          "text": [
            "LIYOHON Womens Tops Dressy Casual Summer Cute Tops Mock Turtleneck Business White T Shirts\n",
            "7,453 ratings\n"
          ]
        }
      ]
    },
    {
      "cell_type": "code",
      "source": [
        "#Need to extract the price from the website\n",
        "price_span = Soup2.find(id = 'span', class_ = 'a-price-whole')\n",
        "print(price_span)"
      ],
      "metadata": {
        "id": "XDCAdk_X58MP",
        "colab": {
          "base_uri": "https://localhost:8080/"
        },
        "outputId": "6d1141f8-ef33-4bbd-d5c2-11145432ea29"
      },
      "execution_count": null,
      "outputs": [
        {
          "output_type": "stream",
          "name": "stdout",
          "text": [
            "None\n"
          ]
        }
      ]
    },
    {
      "cell_type": "code",
      "source": [
        "import datetime\n",
        "\n",
        "today = datetime.date.today()\n",
        "\n",
        "print(today)"
      ],
      "metadata": {
        "colab": {
          "base_uri": "https://localhost:8080/"
        },
        "id": "FtG8gJAbWgJ9",
        "outputId": "7971a475-705b-4bc1-b99e-6e1f3f21c9b2"
      },
      "execution_count": null,
      "outputs": [
        {
          "output_type": "stream",
          "name": "stdout",
          "text": [
            "2024-07-03\n"
          ]
        }
      ]
    },
    {
      "cell_type": "code",
      "source": [
        "title = title.strip()\n",
        "review = review.strip()\n"
      ],
      "metadata": {
        "id": "tCwf2XkdWBUF"
      },
      "execution_count": null,
      "outputs": []
    },
    {
      "cell_type": "code",
      "source": [
        "import csv\n",
        "\n",
        "header = ['Title', 'Review', 'Date']\n",
        "data = [title, review, today]\n",
        "\n",
        "print(data)\n"
      ],
      "metadata": {
        "id": "vFx1FHZ258RH",
        "colab": {
          "base_uri": "https://localhost:8080/"
        },
        "outputId": "bd0f08b3-2ded-426b-9adb-46d0780c8702"
      },
      "execution_count": null,
      "outputs": [
        {
          "output_type": "stream",
          "name": "stdout",
          "text": [
            "['LIYOHON Womens Tops Dressy Casual Summer Cute Tops Mock Turtleneck Business White T Shirts', '7,453 ratings', datetime.date(2024, 7, 3)]\n"
          ]
        }
      ]
    },
    {
      "cell_type": "code",
      "source": [
        "with open('WebScraperDataset.csv', 'w', newline='', encoding='UTF8') as f:\n",
        "    writer = csv.writer(f)\n",
        "    writer.writerow(header)\n",
        "    writer.writerow(data)"
      ],
      "metadata": {
        "id": "V0WlAP6L58U3"
      },
      "execution_count": null,
      "outputs": []
    },
    {
      "cell_type": "code",
      "source": [
        "import pandas as pd\n",
        "df = pd.read_csv(r'/content/WebScraperDataset.csv')\n",
        "\n",
        "print(df)"
      ],
      "metadata": {
        "id": "pishnsVP58W3",
        "colab": {
          "base_uri": "https://localhost:8080/"
        },
        "outputId": "b0ca62f3-b8c1-48b6-fc4f-54d6c3298faa"
      },
      "execution_count": 84,
      "outputs": [
        {
          "output_type": "stream",
          "name": "stdout",
          "text": [
            "                                                Title         Review  \\\n",
            "0   LIYOHON Womens Tops Dressy Casual Summer Cute ...  7,453 ratings   \n",
            "1   LIYOHON Womens Tops Dressy Casual Summer Cute ...  7,453 ratings   \n",
            "2   LIYOHON Womens Tops Dressy Casual Summer Cute ...  7,453 ratings   \n",
            "3   LIYOHON Womens Tops Dressy Casual Summer Cute ...  7,453 ratings   \n",
            "4   LIYOHON Womens Tops Dressy Casual Summer Cute ...  7,453 ratings   \n",
            "5   LIYOHON Womens Tops Dressy Casual Summer Cute ...  7,453 ratings   \n",
            "6   LIYOHON Womens Tops Dressy Casual Summer Cute ...  7,453 ratings   \n",
            "7   LIYOHON Womens Tops Dressy Casual Summer Cute ...  7,453 ratings   \n",
            "8   LIYOHON Womens Tops Dressy Casual Summer Cute ...  7,453 ratings   \n",
            "9   LIYOHON Womens Tops Dressy Casual Summer Cute ...  7,453 ratings   \n",
            "10  LIYOHON Womens Tops Dressy Casual Summer Cute ...  7,453 ratings   \n",
            "\n",
            "          Date  \n",
            "0   2024-07-03  \n",
            "1   2024-07-03  \n",
            "2   2024-07-03  \n",
            "3   2024-07-03  \n",
            "4   2024-07-03  \n",
            "5   2024-07-03  \n",
            "6   2024-07-03  \n",
            "7   2024-07-03  \n",
            "8   2024-07-03  \n",
            "9   2024-07-03  \n",
            "10  2024-07-03  \n"
          ]
        }
      ]
    },
    {
      "cell_type": "code",
      "source": [
        "#append the data by using a+\n",
        "with open('WebScraperDataset.csv', 'a+', newline='', encoding='UTF8') as f:\n",
        "    writer = csv.writer(f)\n",
        "    writer.writerow(data)"
      ],
      "metadata": {
        "id": "kvzsklD0eHD7"
      },
      "execution_count": null,
      "outputs": []
    },
    {
      "cell_type": "code",
      "source": [
        "def check_price():\n",
        "  URL = 'https://www.amazon.com/LIYOHON-Womens-T-Shirt-Blouses-Black-M/dp/B083QTMZQ8/ref=sr_1_1_sspa?keywords=data%2Banalyst%2Btshirt&qid=1681263540&sr=8-1-spons&spLa=ZW5jcnlwdGVkUXVhbGlmaWVyPUEzNlgySFpPUFVCMDFNJmVuY3J5cHRlZElkPUEwODQ4NjUyMjNDMFhVU01MRlpCTSZlbmNyeXB0ZWRBZElkPUEwNjQ0OTQ1VVY0WVkwUEM3Vk4wJndpZGdldE5hbWU9c3BfYXRmJmFjdGlvbj1jbGlja1JlZGlyZWN0JmRvTm90TG9nQ2xpY2s9dHJ1ZQ&th=1&psc=1'\n",
        "\n",
        "  headers = {\"User-Agent\": \"Mozilla/5.0 (Windows NT 10.0; Win64; x64) AppleWebKit/537.36 (KHTML, like Gecko) Chrome/78.0.3904.108 Safari/537.36\", \"Accept-Encoding\":\"gzip, deflate\", \"Accept\":\"text/html,application/xhtml+xml,application/xml;q=0.9,*/*;q=0.8\", \"DNT\":\"1\",\"Connection\":\"close\", \"Upgrade-Insecure-Requests\":\"1\"}\n",
        "\n",
        "  page = requests.get(URL, headers)\n",
        "\n",
        "  Soup1 = BeautifulSoup(page.text, \"html.parser\")\n",
        "\n",
        "  Soup2 = BeautifulSoup(Soup1.prettify(), \"html.parser\")\n",
        "\n",
        "  title_portion = Soup2.find(id='productTitle')\n",
        "  title = title_portion.get_text()\n",
        "\n",
        "  review = Soup2.find(id='acrCustomerReviewText').get_text()\n",
        "\n",
        "  print(title.strip())\n",
        "  print(review.strip())\n",
        "  import datetime\n",
        "\n",
        "  today = datetime.date.today()\n",
        "  title = title.strip()\n",
        "  review = review.strip()\n",
        "  import csv\n",
        "\n",
        "  header = ['Title', 'Review', 'Date']\n",
        "  data = [title, review, today]\n",
        "  with open('WebScraperDataset.csv', 'a+', newline='', encoding='UTF8') as f:\n",
        "      writer = csv.writer(f)\n",
        "      writer.writerow(data)\n"
      ],
      "metadata": {
        "id": "bBgCn9wweHcX"
      },
      "execution_count": null,
      "outputs": []
    },
    {
      "cell_type": "code",
      "source": [
        "while(True):\n",
        "  check_price()\n",
        "  time.sleep(2)"
      ],
      "metadata": {
        "id": "BwSrsWI_jBSK"
      },
      "execution_count": null,
      "outputs": []
    },
    {
      "cell_type": "code",
      "source": [
        "import pandas as pd\n",
        "df = pd.read_csv(r'/content/WebScraperDataset.csv')\n",
        "\n",
        "print(df)"
      ],
      "metadata": {
        "colab": {
          "base_uri": "https://localhost:8080/"
        },
        "id": "QJd9CjTNhP8z",
        "outputId": "613154b5-0b06-43e6-a38c-e5ffdd9f7ec0"
      },
      "execution_count": null,
      "outputs": [
        {
          "output_type": "stream",
          "name": "stdout",
          "text": [
            "                                                Title         Review  \\\n",
            "0   LIYOHON Womens Tops Dressy Casual Summer Cute ...  7,453 ratings   \n",
            "1   LIYOHON Womens Tops Dressy Casual Summer Cute ...  7,453 ratings   \n",
            "2   LIYOHON Womens Tops Dressy Casual Summer Cute ...  7,453 ratings   \n",
            "3   LIYOHON Womens Tops Dressy Casual Summer Cute ...  7,453 ratings   \n",
            "4   LIYOHON Womens Tops Dressy Casual Summer Cute ...  7,453 ratings   \n",
            "5   LIYOHON Womens Tops Dressy Casual Summer Cute ...  7,453 ratings   \n",
            "6   LIYOHON Womens Tops Dressy Casual Summer Cute ...  7,453 ratings   \n",
            "7   LIYOHON Womens Tops Dressy Casual Summer Cute ...  7,453 ratings   \n",
            "8   LIYOHON Womens Tops Dressy Casual Summer Cute ...  7,453 ratings   \n",
            "9   LIYOHON Womens Tops Dressy Casual Summer Cute ...  7,453 ratings   \n",
            "10  LIYOHON Womens Tops Dressy Casual Summer Cute ...  7,453 ratings   \n",
            "\n",
            "          Date  \n",
            "0   2024-07-03  \n",
            "1   2024-07-03  \n",
            "2   2024-07-03  \n",
            "3   2024-07-03  \n",
            "4   2024-07-03  \n",
            "5   2024-07-03  \n",
            "6   2024-07-03  \n",
            "7   2024-07-03  \n",
            "8   2024-07-03  \n",
            "9   2024-07-03  \n",
            "10  2024-07-03  \n"
          ]
        }
      ]
    }
  ]
}