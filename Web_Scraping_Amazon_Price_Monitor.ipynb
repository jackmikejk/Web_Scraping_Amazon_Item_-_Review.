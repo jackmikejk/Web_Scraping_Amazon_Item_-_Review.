{
  "nbformat": 4,
  "nbformat_minor": 0,
  "metadata": {
    "colab": {
      "provenance": [],
      "authorship_tag": "ABX9TyNySmEY+giDvMZwKHvmPuH7",
      "include_colab_link": true
    },
    "kernelspec": {
      "name": "python3",
      "display_name": "Python 3"
    },
    "language_info": {
      "name": "python"
    }
  },
  "cells": [
    {
      "cell_type": "markdown",
      "metadata": {
        "id": "view-in-github",
        "colab_type": "text"
      },
      "source": [
        "<a href=\"https://colab.research.google.com/github/jackmikejk/Web_Scraping_Price_Monitor/blob/main/Web_Scraping_Amazon_Price_Monitor.ipynb\" target=\"_parent\"><img src=\"https://colab.research.google.com/assets/colab-badge.svg\" alt=\"Open In Colab\"/></a>"
      ]
    },
    {
      "cell_type": "code",
      "source": [
        "!pip install beautifulsoup4"
      ],
      "metadata": {
        "colab": {
          "base_uri": "https://localhost:8080/"
        },
        "id": "MFg_Ekc444dZ",
        "outputId": "ec092165-384c-4c70-c0e8-d170fd59744f"
      },
      "execution_count": null,
      "outputs": [
        {
          "output_type": "stream",
          "name": "stdout",
          "text": [
            "Requirement already satisfied: beautifulsoup4 in /usr/local/lib/python3.10/dist-packages (4.12.3)\n",
            "Requirement already satisfied: soupsieve>1.2 in /usr/local/lib/python3.10/dist-packages (from beautifulsoup4) (2.5)\n"
          ]
        }
      ]
    },
    {
      "cell_type": "code",
      "execution_count": 53,
      "metadata": {
        "id": "mzF27eZpknCf"
      },
      "outputs": [],
      "source": [
        "#lets import libraries\n",
        "\n",
        "from bs4 import BeautifulSoup\n",
        "import requests\n",
        "import time\n",
        "import datetime\n",
        "\n",
        "import smtplib"
      ]
    },
    {
      "cell_type": "code",
      "source": [
        "#connecting URL of website\n",
        "\n",
        "URL = 'https://www.amazon.com/LIYOHON-Womens-T-Shirt-Blouses-Black-M/dp/B083QTMZQ8/ref=sr_1_1_sspa?keywords=data%2Banalyst%2Btshirt&qid=1681263540&sr=8-1-spons&spLa=ZW5jcnlwdGVkUXVhbGlmaWVyPUEzNlgySFpPUFVCMDFNJmVuY3J5cHRlZElkPUEwODQ4NjUyMjNDMFhVU01MRlpCTSZlbmNyeXB0ZWRBZElkPUEwNjQ0OTQ1VVY0WVkwUEM3Vk4wJndpZGdldE5hbWU9c3BfYXRmJmFjdGlvbj1jbGlja1JlZGlyZWN0JmRvTm90TG9nQ2xpY2s9dHJ1ZQ&th=1&psc=1'\n",
        "\n",
        "headers = {\"User-Agent\": \"Mozilla/5.0 (Windows NT 10.0; Win64; x64) AppleWebKit/537.36 (KHTML, like Gecko) Chrome/78.0.3904.108 Safari/537.36\", \"Accept-Encoding\":\"gzip, deflate\", \"Accept\":\"text/html,application/xhtml+xml,application/xml;q=0.9,*/*;q=0.8\", \"DNT\":\"1\",\"Connection\":\"close\", \"Upgrade-Insecure-Requests\":\"1\"}\n",
        "\n",
        "page = requests.get(URL, headers)\n",
        "\n",
        "Soup1 = BeautifulSoup(page.text, \"html.parser\")\n",
        "\n",
        "Soup2 = BeautifulSoup(Soup1.prettify(), \"html.parser\")\n",
        "\n",
        "title_portion = Soup2.find(id='productTitle')\n",
        "title = title_portion.get_text()\n",
        "\n",
        "print(title.strip())\n",
        "\n",
        "#price = Soup2.find_all(\"span\", class_='a-price-whole')\n",
        "#print(price)\n",
        "#title = Soup2.find(id='productTitle').get_text()\n",
        "\n",
        "#price = Soup2.select_one('span.a-price-whole').select_one('span.a-price-decimal').get_text()\n",
        "\n",
        "\n",
        "#print(title)\n",
        "#print(price.text)\n",
        "\n"
      ],
      "metadata": {
        "id": "5ft2lASx58JR",
        "colab": {
          "base_uri": "https://localhost:8080/"
        },
        "collapsed": true,
        "outputId": "50a7c5c9-9ddf-464b-9494-acd5ac21519c"
      },
      "execution_count": 54,
      "outputs": [
        {
          "output_type": "stream",
          "name": "stdout",
          "text": [
            "LIYOHON Womens Tops Dressy Casual Summer Cute Tops Mock Turtleneck Business White T Shirts\n"
          ]
        }
      ]
    },
    {
      "cell_type": "code",
      "source": [
        "review = Soup2.find(id='acrCustomerReviewText').get_text()\n",
        "print(review.strip())"
      ],
      "metadata": {
        "colab": {
          "base_uri": "https://localhost:8080/"
        },
        "id": "FtG8gJAbWgJ9",
        "outputId": "450f2049-17e3-46aa-b65b-bf770fc47ce5"
      },
      "execution_count": 61,
      "outputs": [
        {
          "output_type": "stream",
          "name": "stdout",
          "text": [
            "7,453 ratings\n"
          ]
        }
      ]
    },
    {
      "cell_type": "code",
      "source": [
        "#Need to extract the price from the website\n",
        "price_span = Soup2.findAll(id='span')\n",
        "print(price_span)"
      ],
      "metadata": {
        "id": "XDCAdk_X58MP",
        "colab": {
          "base_uri": "https://localhost:8080/"
        },
        "outputId": "be9b5c62-41fa-4a7f-a02f-e300472444b0"
      },
      "execution_count": 67,
      "outputs": [
        {
          "output_type": "stream",
          "name": "stdout",
          "text": [
            "[]\n"
          ]
        }
      ]
    },
    {
      "cell_type": "code",
      "source": [],
      "metadata": {
        "id": "vFx1FHZ258RH"
      },
      "execution_count": null,
      "outputs": []
    },
    {
      "cell_type": "code",
      "source": [],
      "metadata": {
        "id": "V0WlAP6L58U3"
      },
      "execution_count": null,
      "outputs": []
    },
    {
      "cell_type": "code",
      "source": [],
      "metadata": {
        "id": "pishnsVP58W3"
      },
      "execution_count": null,
      "outputs": []
    },
    {
      "cell_type": "code",
      "source": [],
      "metadata": {
        "id": "1o92Q9um58ZH"
      },
      "execution_count": null,
      "outputs": []
    }
  ]
}